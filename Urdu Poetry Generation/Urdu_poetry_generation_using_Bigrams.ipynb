{
  "nbformat": 4,
  "nbformat_minor": 0,
  "metadata": {
    "colab": {
      "name": "Urdu-poetry-generation-using-Bigrams.ipynb",
      "provenance": [],
      "collapsed_sections": []
    },
    "kernelspec": {
      "display_name": "Python 3",
      "name": "python3"
    },
    "language_info": {
      "name": "python"
    }
  },
  "cells": [
    {
      "cell_type": "code",
      "metadata": {
        "id": "d4XguZFDJEaj"
      },
      "source": [
        "import nltk\n",
        "import spacy\n",
        "unlp = spacy.blank('ur')"
      ],
      "execution_count": null,
      "outputs": []
    },
    {
      "cell_type": "code",
      "metadata": {
        "id": "DNQ0UlDUSMtX"
      },
      "source": [
        "def readCorpus(fileName):\n",
        "\tcorpus = []\n",
        "\tfile = open(fileName, \"r\")\n",
        "\n",
        "\tfor word in file.read().split():\n",
        "\t\tcorpus.append(word)\n",
        "\n",
        "\tfile.close()\n",
        "\treturn corpus\n"
      ],
      "execution_count": null,
      "outputs": []
    },
    {
      "cell_type": "code",
      "metadata": {
        "id": "oH9UdO88SPkI"
      },
      "source": [
        "def generateBigram(data):\n",
        "\tbigrams = []\n",
        "\tbigram_freqs = {}\n",
        "\tunigram_freqs = {}\n",
        "\tnbyn = {}\n",
        "\n",
        "\tfor i in range(len(data)):\n",
        "\t\tif i < len(data) - 1:\n",
        "\n",
        "\t\t\tbigrams.append((data[i], data[i + 1]))\n",
        "\n",
        "\t\t\tif (data[i], data[i+1]) in bigram_freqs:\n",
        "\t\t\t\tbigram_freqs[(data[i], data[i + 1])] += 1\n",
        "\t\t\telse:\n",
        "\t\t\t\tbigram_freqs[(data[i], data[i + 1])] = 1\n",
        "\n",
        "\t\tif data[i] in unigram_freqs:\n",
        "\t\t\tunigram_freqs[data[i]] += 1\n",
        "\t\telse:\n",
        "\t\t\tunigram_freqs[data[i]] = 1\n",
        "\n",
        "\treturn bigrams, unigram_freqs, bigram_freqs\n"
      ],
      "execution_count": null,
      "outputs": []
    },
    {
      "cell_type": "code",
      "metadata": {
        "id": "K2I_hdW5SW3r"
      },
      "source": [
        "def SimpleBigram(bigrams, unigram_freqs, bigram_freqs):\n",
        "\n",
        "\tbigramProbs = {}\n",
        "\tfor bigram in bigrams:\n",
        "\t\tword1 = bigram[0]\n",
        "\t\tword2 = bigram[1]\n",
        "\t\t\n",
        "\t\tbigramProbs[bigram] = (bigram_freqs.get(bigram))/(unigram_freqs.get(word1))\n",
        "\n",
        "\t\n",
        "\t# print('Bigram' + '\\t' + 'Frequency' + '\\t' + 'Probability' + '\\n')\n",
        "\n",
        "\t# for bigrams in bigrams:\n",
        "\t# \tprint(str(bigrams) + ' : ' + str(bigram_freqs[bigrams])\n",
        "\t# \t\t\t   + ' : ' + str(bigramProbs[bigrams]) + '\\n')\n",
        "\n",
        "\t\n",
        "\treturn bigramProbs"
      ],
      "execution_count": null,
      "outputs": []
    },
    {
      "cell_type": "code",
      "metadata": {
        "id": "3wpHjAxwxXk9"
      },
      "source": [
        "def LaplaceSmoothing(bigrams, unigram_freqs, bigram_freqs):\n",
        "\n",
        "\tbigramProbs = {}\n",
        "\tadjustedFrequencys = {}\n",
        "\n",
        "\n",
        "\tfor bigram in bigrams:\n",
        "\t\tword1 = bigram[0]\n",
        "\t\tword2 = bigram[1]\n",
        "\t\tbigramProbs[bigram] = (bigram_freqs.get(bigram) + 1)/(unigram_freqs.get(word1) + len(unigram_freqs))\n",
        "\t\tadjustedFrequencys[bigram] = (bigram_freqs[bigram] + 1) * unigram_freqs[word1] / (unigram_freqs[word1] + len(unigram_freqs))\n",
        "\n",
        "\t# print('Bigram' + '\\t' + 'Frequency' + '\\t' + 'Probability' + '\\n')\n",
        "\n",
        "\t# for bigrams in bigrams:\n",
        "\t# \tprint(str(bigrams) + ' : ' + str(bigram_freqs[bigrams])\n",
        "\t# \t\t\t   + ' : ' + str(bigramProbs[bigrams]) + '\\n')\n",
        "\n",
        "\treturn bigramProbs, adjustedFrequencys\n",
        "\n"
      ],
      "execution_count": null,
      "outputs": []
    },
    {
      "cell_type": "code",
      "metadata": {
        "id": "ld7_3gnmukyN"
      },
      "source": [
        "                          ##########################################                Generating Poetry Using Bigram Model                ########################\n",
        "import random\n",
        "def generatePoetryBigram(unigrams : list , bigrams : list , cdist):\n",
        "\n",
        "  last_word = str()\n",
        "  last_word_set = False\n",
        "  word = \"\"\n",
        "  \n",
        "  # Loop to Iterate over the Stanzas of the poem\n",
        "  for i in range(0,3):\n",
        "    number_of_words = random.randint(7,10)  # Randomly generating the number of words to be generated for this stanza\n",
        "    # Loop to iterate over every verse of the stanza\n",
        "    for j in range(0,4):\n",
        "      sentence = \"\"           #Initializing an empty sentence\n",
        "      \n",
        "      while True :            #Randomly chooses a word to start the verse, if the length of chosen word is less than 1, chooses again\n",
        "        word = random.choice(unigrams)\n",
        "        if len(word) > 1:\n",
        "          break\n",
        "\n",
        "      sentence = sentence + \" \" + str(word)     # appends the to the sentence\n",
        "      # Loop to iterate over and generate every word in a verse\n",
        "      for k in range(0,number_of_words):\n",
        "          \n",
        "        #### code to choose the next word on the basis of current word\n",
        "\n",
        "        # generates a dict, keeping the count of next possible words occurences\n",
        "\n",
        "        temp_words = dict()\n",
        "        for tuples in bigrams:\n",
        "          if str(tuples[0]) == str(word):\n",
        "            if len(str(tuples[1])) <= 1:\n",
        "              continue\n",
        "            if tuples[1] in temp_words:\n",
        "              temp_words[tuples[1]] += 1\n",
        "            else:\n",
        "              temp_words[tuples[1]] = 1\n",
        "        \n",
        "\n",
        "        # chooses the word that occurs the most number of times next to the current word, if no next word, randomly selects next word\n",
        "        if len(temp_words) > 0 :\n",
        "            while True :\n",
        "              word = random.choice(list(temp_words.keys()))\n",
        "              if len(word) > 1:\n",
        "               break\n",
        "        else:\n",
        "            while True :\n",
        "              word = random.choice(unigrams)\n",
        "              if len(word) > 1:\n",
        "                break\n",
        "\n",
        "        #######################################\n",
        "\n",
        "        # when the end of sentence reaches, checks if there is a designated last word assigned and proceeds accordingly i.e choosing the designated last word or current word\n",
        "        if k == (number_of_words - 1 ) and last_word_set == True and j != (2):\n",
        "          sentence = sentence + \" \" + last_word\n",
        "        else:\n",
        "          sentence = sentence + \" \" +str(word)\n",
        "\n",
        "        # if the current word is last word and no last word has been selected, chooses a last_word\n",
        "        if k == (number_of_words - 1) and last_word_set == False:\n",
        "          last_word_set = True\n",
        "          last_word = str(word)\n",
        "      #prints the sentence\n",
        "      print(sentence)\n",
        "    \n",
        "    #prints empty line\n",
        "    print()\n",
        "\n"
      ],
      "execution_count": null,
      "outputs": []
    },
    {
      "cell_type": "code",
      "metadata": {
        "id": "lNXxXv4bUBny",
        "colab": {
          "base_uri": "https://localhost:8080/"
        },
        "outputId": "eb26951c-bb46-4fdb-aabe-ff6d05d66f8c"
      },
      "source": [
        "fileName = 'ghalib.txt'  #enter corpus file name , here I have dataset for 3 Urdu poets\n",
        "# Ghalib \n",
        "data = readCorpus(fileName)\n",
        "listOfBigrams, unigramFreqs, bigramFreqs = generateBigram(data)\n",
        "bigramProb = SimpleBigram(listOfBigrams, unigramFreqs, bigramFreqs)\n",
        "bigramLaplace, adjustedFreqs = LaplaceSmoothing(listOfBigrams, unigramFreqs, bigramFreqs)\n",
        "unigrams = list(unigramFreqs.keys())\n",
        "generatePoetryBigram(unigrams, listOfBigrams , adjustedFreqs)\n"
      ],
      "execution_count": null,
      "outputs": [
        {
          "output_type": "stream",
          "text": [
            " ہنر میں دل میں‘ ضعف جنوں ہوں گداز آئنۂ اعتبار ہوتا\n",
            " نغمۂ بیدلؔ نے آئينہ، تمثال کے نا آفریدہ ہوں رہزن ہوتا\n",
            " غبارِ خاطرِ آگاہ نہیں آرزوئے دوست غیر کا پیکاں سے وفا\n",
            " ناک گرچہ ہوں ظہوریؔ کے رُو بہ رُو برو‘ کیوں ہوتا\n",
            "\n",
            " مجبوریاں ہی عزیز سوائے خونِ دل معلوم! آہ ہوتا\n",
            " آؤ تو بہرِ دعوت نظارہ سوز ناکیہائے دل ہوتا\n",
            " خاموش کی حقیقت غالب اکثر کئی خون جگر تشنہٴ\n",
            " جنبش نہیں رنجِ نو بہارِ ناز ہے‘ خیر ہوتا\n",
            "\n",
            " خدایا یہ حجت ہے نفس مدّت ہوئی ہے‘ ہوتا\n",
            " اگر‘ تو ویراں کرے جو ہم لوگ وائے! ہوتا\n",
            " اڑنے سے تو دین پہ معشوق فریبی عنواں اٹھایئے\n",
            " کھولتے ہی کیوں رقیبوں سے بزمِ بیخودی جلوہٴ ہوتا\n",
            "\n"
          ],
          "name": "stdout"
        }
      ]
    },
    {
      "cell_type": "code",
      "metadata": {
        "id": "u1Nxv-HgEwnm",
        "colab": {
          "base_uri": "https://localhost:8080/"
        },
        "outputId": "281c5d64-78d6-428f-bea3-6509fb0b7b58"
      },
      "source": [
        "fileName = 'faiz.txt'  #enter corpus file name , here I have dataset for 3 Urdu poets\n",
        "#  Faiz \n",
        "data = readCorpus(fileName)\n",
        "listOfBigrams, unigramFreqs, bigramFreqs = generateBigram(data)\n",
        "bigramProb = SimpleBigram(listOfBigrams, unigramFreqs, bigramFreqs)\n",
        "bigramLaplace, adjustedFreqs = LaplaceSmoothing(listOfBigrams, unigramFreqs, bigramFreqs)\n",
        "unigrams = list(unigramFreqs.keys())\n",
        "generatePoetryBigram(unigrams, listOfBigrams , adjustedFreqs)"
      ],
      "execution_count": null,
      "outputs": [
        {
          "output_type": "stream",
          "text": [
            " ترجمہ فیض ہم نے کہا آخر شب چاند نکلے تو\n",
            " کو آزما کے شکوے گلے سب آج یوں کوئے تو\n",
            " تلخیِ کلام پہ ہاتھ ہے رسوائی کا آج غم ہمیں\n",
            " ہمیں جو بچے ہیں وسوسے کہ جن کو آزما تو\n",
            "\n",
            " گونجی گویا ہر چارہ گر جو خوں ہوئی ہیں تو\n",
            " پس مرگ ناگہاں کی دید چِھن گئی جیسے ہمیشہ تو\n",
            " پھیرے میں کس حرف کہ دلوں کی خیر دل سنبھالے\n",
            " چِھن گئی پھر سر کاکل سے لوٹ کے مقتل تو\n",
            "\n",
            " چھپا کے بہ ہزار انداز بدلے گئے تو\n",
            " گفتنی جو دکھ تھے احوال جو رکے تو\n",
            " آرا نظم مجھے بزم دہر سے اب حال\n",
            " کے انداز خوف خدا گیا شرح فراق تو\n",
            "\n"
          ],
          "name": "stdout"
        }
      ]
    },
    {
      "cell_type": "code",
      "metadata": {
        "id": "tEJKSn2OwEMZ",
        "colab": {
          "base_uri": "https://localhost:8080/"
        },
        "outputId": "5bfda074-991f-4498-9929-54b7cc1c3a05"
      },
      "source": [
        "fileName = 'iqbal.txt'  #enter corpus file name , here I have dataset for 3 Urdu poets\n",
        "# Iqbal \n",
        "data = readCorpus(fileName)\n",
        "listOfBigrams, unigramFreqs, bigramFreqs = generateBigram(data)\n",
        "bigramProb = SimpleBigram(listOfBigrams, unigramFreqs, bigramFreqs)\n",
        "bigramLaplace, adjustedFreqs = LaplaceSmoothing(listOfBigrams, unigramFreqs, bigramFreqs)\n",
        "unigrams = list(unigramFreqs.keys())\n",
        "generatePoetryBigram(unigrams, listOfBigrams , adjustedFreqs)"
      ],
      "execution_count": null,
      "outputs": [
        {
          "output_type": "stream",
          "text": [
            " بجز موعظہ خارا رہے گاہے غلط آہنگ دنیا نہیں\n",
            " بے حضور ازل انکار کی مرے لیے کہ نہیں\n",
            " ملکوتی خاکی ہوں سزا چاہتا ہوں اگرچہ میں کچھ\n",
            " روما کی گھڑی گزری جلوت کی بہار طائرک نہیں\n",
            "\n",
            " دانہ خاک بازی کا نہیں آفتاب کا نہیں\n",
            " مہجوری حد ادراک کے نخچیروں کا سامنا نہیں\n",
            " کس شوخ اتنا وہی رھبر زمیں پر گناھ\n",
            " خاک سے آتی ہو آزاد بندوں کو نہیں\n",
            "\n",
            " آستیں میں تم سبھی کچھ ہو سکوت پردۂ ساز کو نہیں\n",
            " قافلہ مور ناتواں کا تہ جرعہ بھی تابدار کر دے، نہیں\n",
            " فلک پہ آئی کہ جہاں سے آغوش سحاب وا کرد چشمِ\n",
            " استوار ہوگا جو تیرا ہے بیکرانہ تو مرد خدا سے نہیں\n",
            "\n"
          ],
          "name": "stdout"
        }
      ]
    }
  ]
}